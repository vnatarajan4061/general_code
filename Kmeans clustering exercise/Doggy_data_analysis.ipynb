{
 "cells": [
  {
   "cell_type": "markdown",
   "metadata": {},
   "source": [
    "# Dog Data Analysis and Breed Grouping"
   ]
  },
  {
   "cell_type": "markdown",
   "metadata": {},
   "source": [
    "## Overview\n",
    "- **I have made observations below and you will see them underneath cells that have a header called Observations**\n",
    "- **The overall 'doggyness' question I try to answer is how many breeds of dogs could there be in this dataset?**"
   ]
  },
  {
   "cell_type": "markdown",
   "metadata": {},
   "source": [
    "## Information related to the data"
   ]
  },
  {
   "cell_type": "code",
   "execution_count": null,
   "metadata": {},
   "outputs": [],
   "source": [
    "# order_seen (int) - the order in which the dogs were seen\n",
    "# name (string) - the dog’s name\n",
    "# age (integer) - the age in years\n",
    "# num_barks (int) - the number of times the dog barked while being seen \n",
    "# length (cm) - the length from nose to hip\n",
    "# height (cm) - from floor to back\n",
    "# leg_length (cm) - length of legs\n",
    "# tail_length (cm) - length of tail\n",
    "# waggy_tail (boolean) - whether the dog had a waggy tail \n",
    "# weight (kg) - weight in kilograms\n",
    "# long_haired (int) - Binary response: 0 means short haired, 1 means\n",
    "# num_barks (int) - Number of times the dog barked at the vet while being seen\n",
    "# scary (0/1) - Binary response: 0 means not scary, 1 is scary according to the vet\n",
    "# one_direction_or_beethoven (string) - whether the dog prefers to listen to One Direction or Beethoven, according to the vet\n",
    "# notes (string) - any notes from the vet"
   ]
  },
  {
   "cell_type": "markdown",
   "metadata": {},
   "source": [
    "## Importing Packages and Loading the Dataset"
   ]
  },
  {
   "cell_type": "code",
   "execution_count": 1,
   "metadata": {},
   "outputs": [],
   "source": [
    "import numpy as np\n",
    "import pandas as pd\n",
    "import seaborn as sns\n",
    "import matplotlib.pyplot as plt\n",
    "from sklearn.cluster import KMeans\n",
    "from sklearn.preprocessing import StandardScaler, MinMaxScaler\n",
    "from sklearn.metrics import silhouette_samples, silhouette_score\n",
    "\n",
    "from warnings import filterwarnings\n",
    "filterwarnings('ignore')"
   ]
  },
  {
   "cell_type": "code",
   "execution_count": 2,
   "metadata": {},
   "outputs": [],
   "source": [
    "doggy_data = pd.read_csv('doggy_data.csv', index_col=0)"
   ]
  },
  {
   "cell_type": "markdown",
   "metadata": {},
   "source": [
    "## Data Cleaning and EDA"
   ]
  },
  {
   "cell_type": "code",
   "execution_count": 3,
   "metadata": {},
   "outputs": [
    {
     "name": "stdout",
     "output_type": "stream",
     "text": [
      "<class 'pandas.core.frame.DataFrame'>\n",
      "Int64Index: 200 entries, 0 to 199\n",
      "Data columns (total 14 columns):\n",
      "order_seen                    200 non-null int64\n",
      "name                          200 non-null object\n",
      "age                           200 non-null int64\n",
      "num_barks                     200 non-null int64\n",
      "waggy_tail                    200 non-null bool\n",
      "length                        195 non-null float64\n",
      "height                        194 non-null float64\n",
      "leg_length                    199 non-null float64\n",
      "tail_length                   195 non-null float64\n",
      "weight                        197 non-null float64\n",
      "long_haired                   200 non-null int64\n",
      "scary                         200 non-null int64\n",
      "one_direction_or_beethoven    200 non-null object\n",
      "notes                         12 non-null object\n",
      "dtypes: bool(1), float64(5), int64(5), object(3)\n",
      "memory usage: 22.1+ KB\n"
     ]
    }
   ],
   "source": [
    "# Checking to see information related to the data loaded\n",
    "doggy_data.info()"
   ]
  },
  {
   "cell_type": "markdown",
   "metadata": {},
   "source": [
    "#### Comments\n",
    "- length, height, leg_length, tail_length, weight (numeric columns) have null values that we need to fill.\n",
    "- don't want to drop any data so we can fill with mean."
   ]
  },
  {
   "cell_type": "code",
   "execution_count": 4,
   "metadata": {},
   "outputs": [],
   "source": [
    "doggy_data = doggy_data.fillna(doggy_data.mean())"
   ]
  },
  {
   "cell_type": "code",
   "execution_count": 5,
   "metadata": {},
   "outputs": [
    {
     "name": "stdout",
     "output_type": "stream",
     "text": [
      "<class 'pandas.core.frame.DataFrame'>\n",
      "Int64Index: 200 entries, 0 to 199\n",
      "Data columns (total 14 columns):\n",
      "order_seen                    200 non-null int64\n",
      "name                          200 non-null object\n",
      "age                           200 non-null int64\n",
      "num_barks                     200 non-null int64\n",
      "waggy_tail                    200 non-null bool\n",
      "length                        200 non-null float64\n",
      "height                        200 non-null float64\n",
      "leg_length                    200 non-null float64\n",
      "tail_length                   200 non-null float64\n",
      "weight                        200 non-null float64\n",
      "long_haired                   200 non-null int64\n",
      "scary                         200 non-null int64\n",
      "one_direction_or_beethoven    200 non-null object\n",
      "notes                         12 non-null object\n",
      "dtypes: bool(1), float64(5), int64(5), object(3)\n",
      "memory usage: 22.1+ KB\n"
     ]
    }
   ],
   "source": [
    "# Checking data to make sure no numeric columns have null values now\n",
    "doggy_data.info()"
   ]
  },
  {
   "cell_type": "markdown",
   "metadata": {},
   "source": [
    "#### Comments\n",
    "\n",
    "- only the notes column has null values (we can take a look a bit later)."
   ]
  },
  {
   "cell_type": "markdown",
   "metadata": {},
   "source": [
    "### Research and Checking for Outliers"
   ]
  },
  {
   "cell_type": "markdown",
   "metadata": {},
   "source": [
    "#### Facts about dog to keep in mind:\n",
    "\n",
    "   Max (Guiness Records on the higher end for dogs):\n",
    "    - Longest tail recorded is 78 cm\n",
    "    - 343 pounds (155 kg) world record for weight for dogs\n",
    "    - Tallest dog (named Zeus!) was 111.8 cm\n",
    "    - Longest dog recorded from nose to tail is 251 cm (8 foot 3 inches) so I'm setting nose to hip max as 150 cm (close to 60%)\n",
    "    - 27 cm is what I've set as maximum for leg length from the brief numbers I could find)\n",
    "    \n",
    "   Min (Guiness Records on the lower end for dogs):\n",
    "    - Smallest dog was 9.65 cm\n",
    "    - 1 pound (.5 kg) world record for smallest weight\n",
    "    - 0 cm for tail length because dogs can have no tails\n",
    "    - Couldn't find the length for shortest dog so I have used 8.5 cm as minimum\n",
    "    - Shortest leg length for dogs going with a 3 cm (couldn't really find a number for this)"
   ]
  },
  {
   "cell_type": "code",
   "execution_count": 6,
   "metadata": {},
   "outputs": [
    {
     "data": {
      "image/png": "[encoded data removed]",
      "text/plain": [
       "<matplotlib.figure.Figure at 0x10b295f98>"
      ]
     },
     "metadata": {},
     "output_type": "display_data"
    },
    {
     "data": {
      "image/png": "[encoded data removed]",
      "text/plain": [
       "<matplotlib.figure.Figure at 0x10b0d70f0>"
      ]
     },
     "metadata": {},
     "output_type": "display_data"
    },
    {
     "data": {
      "image/png": "[encoded data removed]",
      "text/plain": [
       "<matplotlib.figure.Figure at 0x10b1bba58>"
      ]
     },
     "metadata": {},
     "output_type": "display_data"
    },
    {
     "data": {
      "image/png": "[encoded data removed]",
      "text/plain": [
       "<matplotlib.figure.Figure at 0x10b165160>"
      ]
     },
     "metadata": {},
     "output_type": "display_data"
    },
    {
     "data": {
      "image/png": "[encoded data removed]",
      "text/plain": [
       "<matplotlib.figure.Figure at 0x104ab9eb8>"
      ]
     },
     "metadata": {},
     "output_type": "display_data"
    }
   ],
   "source": [
    "# Creating box plots for numerical data\n",
    "for column in doggy_data.select_dtypes(include='float').columns.tolist():\n",
    "    plt.figure()\n",
    "    doggy_data.boxplot([column])"
   ]
  },
  {
   "cell_type": "code",
   "execution_count": 7,
   "metadata": {},
   "outputs": [
    {
     "data": {
      "image/png": "[encoded data removed]",
      "text/plain": [
       "<matplotlib.figure.Figure at 0x10b455fd0>"
      ]
     },
     "metadata": {},
     "output_type": "display_data"
    },
    {
     "data": {
      "image/png": "[encoded data removed]",
      "text/plain": [
       "<matplotlib.figure.Figure at 0x10b5a34a8>"
      ]
     },
     "metadata": {},
     "output_type": "display_data"
    },
    {
     "data": {
      "image/png": "[encoded data removed]",
      "text/plain": [
       "<matplotlib.figure.Figure at 0x10b577d30>"
      ]
     },
     "metadata": {},
     "output_type": "display_data"
    },
    {
     "data": {
      "image/png": "[encoded data removed]",
      "text/plain": [
       "<matplotlib.figure.Figure at 0x10b6866a0>"
      ]
     },
     "metadata": {},
     "output_type": "display_data"
    },
    {
     "data": {
      "image/png": "[encoded data removed]",
      "text/plain": [
       "<matplotlib.figure.Figure at 0x10b65d0f0>"
      ]
     },
     "metadata": {},
     "output_type": "display_data"
    }
   ],
   "source": [
    "# Creating histogram and density plots for numerical data\n",
    "for column in doggy_data.select_dtypes(include='float').columns.tolist():\n",
    "    plt.figure()\n",
    "    sns.distplot(doggy_data[column], hist=True, kde=True, \n",
    "             bins=int(180/5), color = 'darkblue', \n",
    "             hist_kws={'edgecolor':'black'},\n",
    "             kde_kws={'linewidth': 4})"
   ]
  },
  {
   "cell_type": "markdown",
   "metadata": {},
   "source": [
    "##### Checking the weight data points that aren't possible"
   ]
  },
  {
   "cell_type": "code",
   "execution_count": 8,
   "metadata": {},
   "outputs": [
    {
     "data": {
      "text/html": [
       "<div>\n",
       "<style scoped>\n",
       "    .dataframe tbody tr th:only-of-type {\n",
       "        vertical-align: middle;\n",
       "    }\n",
       "\n",
       "    .dataframe tbody tr th {\n",
       "        vertical-align: top;\n",
       "    }\n",
       "\n",
       "    .dataframe thead th {\n",
       "        text-align: right;\n",
       "    }\n",
       "</style>\n",
       "<table border=\"1\" class=\"dataframe\">\n",
       "  <thead>\n",
       "    <tr style=\"text-align: right;\">\n",
       "      <th></th>\n",
       "      <th>order_seen</th>\n",
       "      <th>name</th>\n",
       "      <th>age</th>\n",
       "      <th>num_barks</th>\n",
       "      <th>waggy_tail</th>\n",
       "      <th>length</th>\n",
       "      <th>height</th>\n",
       "      <th>leg_length</th>\n",
       "      <th>tail_length</th>\n",
       "      <th>weight</th>\n",
       "      <th>long_haired</th>\n",
       "      <th>scary</th>\n",
       "      <th>one_direction_or_beethoven</th>\n",
       "      <th>notes</th>\n",
       "    </tr>\n",
       "  </thead>\n",
       "  <tbody>\n",
       "    <tr>\n",
       "      <th>14</th>\n",
       "      <td>14</td>\n",
       "      <td>Frank Hornby</td>\n",
       "      <td>1</td>\n",
       "      <td>0</td>\n",
       "      <td>True</td>\n",
       "      <td>180.0</td>\n",
       "      <td>550.0</td>\n",
       "      <td>200.0</td>\n",
       "      <td>100.0</td>\n",
       "      <td>1200.0</td>\n",
       "      <td>0</td>\n",
       "      <td>0</td>\n",
       "      <td>Beethoven</td>\n",
       "      <td>Frank Hornby is a giraffe</td>\n",
       "    </tr>\n",
       "  </tbody>\n",
       "</table>\n",
       "</div>"
      ],
      "text/plain": [
       "    order_seen          name  age  num_barks  waggy_tail  length  height  \\\n",
       "14          14  Frank Hornby    1          0        True   180.0   550.0   \n",
       "\n",
       "    leg_length  tail_length  weight  long_haired  scary  \\\n",
       "14       200.0        100.0  1200.0            0      0   \n",
       "\n",
       "   one_direction_or_beethoven                      notes  \n",
       "14                  Beethoven  Frank Hornby is a giraffe  "
      ]
     },
     "execution_count": 8,
     "metadata": {},
     "output_type": "execute_result"
    }
   ],
   "source": [
    "doggy_data[doggy_data.weight > 155]"
   ]
  },
  {
   "cell_type": "code",
   "execution_count": 9,
   "metadata": {},
   "outputs": [
    {
     "data": {
      "text/html": [
       "<div>\n",
       "<style scoped>\n",
       "    .dataframe tbody tr th:only-of-type {\n",
       "        vertical-align: middle;\n",
       "    }\n",
       "\n",
       "    .dataframe tbody tr th {\n",
       "        vertical-align: top;\n",
       "    }\n",
       "\n",
       "    .dataframe thead th {\n",
       "        text-align: right;\n",
       "    }\n",
       "</style>\n",
       "<table border=\"1\" class=\"dataframe\">\n",
       "  <thead>\n",
       "    <tr style=\"text-align: right;\">\n",
       "      <th></th>\n",
       "      <th>order_seen</th>\n",
       "      <th>name</th>\n",
       "      <th>age</th>\n",
       "      <th>num_barks</th>\n",
       "      <th>waggy_tail</th>\n",
       "      <th>length</th>\n",
       "      <th>height</th>\n",
       "      <th>leg_length</th>\n",
       "      <th>tail_length</th>\n",
       "      <th>weight</th>\n",
       "      <th>long_haired</th>\n",
       "      <th>scary</th>\n",
       "      <th>one_direction_or_beethoven</th>\n",
       "      <th>notes</th>\n",
       "    </tr>\n",
       "  </thead>\n",
       "  <tbody>\n",
       "  </tbody>\n",
       "</table>\n",
       "</div>"
      ],
      "text/plain": [
       "Empty DataFrame\n",
       "Columns: [order_seen, name, age, num_barks, waggy_tail, length, height, leg_length, tail_length, weight, long_haired, scary, one_direction_or_beethoven, notes]\n",
       "Index: []"
      ]
     },
     "execution_count": 9,
     "metadata": {},
     "output_type": "execute_result"
    }
   ],
   "source": [
    "doggy_data[doggy_data.weight < .5]"
   ]
  },
  {
   "cell_type": "markdown",
   "metadata": {},
   "source": [
    "##### Checking tail length data points that aren't possible"
   ]
  },
  {
   "cell_type": "code",
   "execution_count": 10,
   "metadata": {},
   "outputs": [
    {
     "data": {
      "text/html": [
       "<div>\n",
       "<style scoped>\n",
       "    .dataframe tbody tr th:only-of-type {\n",
       "        vertical-align: middle;\n",
       "    }\n",
       "\n",
       "    .dataframe tbody tr th {\n",
       "        vertical-align: top;\n",
       "    }\n",
       "\n",
       "    .dataframe thead th {\n",
       "        text-align: right;\n",
       "    }\n",
       "</style>\n",
       "<table border=\"1\" class=\"dataframe\">\n",
       "  <thead>\n",
       "    <tr style=\"text-align: right;\">\n",
       "      <th></th>\n",
       "      <th>order_seen</th>\n",
       "      <th>name</th>\n",
       "      <th>age</th>\n",
       "      <th>num_barks</th>\n",
       "      <th>waggy_tail</th>\n",
       "      <th>length</th>\n",
       "      <th>height</th>\n",
       "      <th>leg_length</th>\n",
       "      <th>tail_length</th>\n",
       "      <th>weight</th>\n",
       "      <th>long_haired</th>\n",
       "      <th>scary</th>\n",
       "      <th>one_direction_or_beethoven</th>\n",
       "      <th>notes</th>\n",
       "    </tr>\n",
       "  </thead>\n",
       "  <tbody>\n",
       "    <tr>\n",
       "      <th>14</th>\n",
       "      <td>14</td>\n",
       "      <td>Frank Hornby</td>\n",
       "      <td>1</td>\n",
       "      <td>0</td>\n",
       "      <td>True</td>\n",
       "      <td>180.000000</td>\n",
       "      <td>550.00000</td>\n",
       "      <td>200.000000</td>\n",
       "      <td>100.0</td>\n",
       "      <td>1200.000000</td>\n",
       "      <td>0</td>\n",
       "      <td>0</td>\n",
       "      <td>Beethoven</td>\n",
       "      <td>Frank Hornby is a giraffe</td>\n",
       "    </tr>\n",
       "    <tr>\n",
       "      <th>133</th>\n",
       "      <td>133</td>\n",
       "      <td>David Hilbert</td>\n",
       "      <td>9</td>\n",
       "      <td>5</td>\n",
       "      <td>False</td>\n",
       "      <td>52.054492</td>\n",
       "      <td>21.56189</td>\n",
       "      <td>5.850638</td>\n",
       "      <td>2000.0</td>\n",
       "      <td>12.764691</td>\n",
       "      <td>1</td>\n",
       "      <td>0</td>\n",
       "      <td>Beethoven</td>\n",
       "      <td>NaN</td>\n",
       "    </tr>\n",
       "  </tbody>\n",
       "</table>\n",
       "</div>"
      ],
      "text/plain": [
       "     order_seen           name  age  num_barks  waggy_tail      length  \\\n",
       "14           14   Frank Hornby    1          0        True  180.000000   \n",
       "133         133  David Hilbert    9          5       False   52.054492   \n",
       "\n",
       "        height  leg_length  tail_length       weight  long_haired  scary  \\\n",
       "14   550.00000  200.000000        100.0  1200.000000            0      0   \n",
       "133   21.56189    5.850638       2000.0    12.764691            1      0   \n",
       "\n",
       "    one_direction_or_beethoven                      notes  \n",
       "14                   Beethoven  Frank Hornby is a giraffe  \n",
       "133                  Beethoven                        NaN  "
      ]
     },
     "execution_count": 10,
     "metadata": {},
     "output_type": "execute_result"
    }
   ],
   "source": [
    "doggy_data[doggy_data.tail_length > 78]\n",
    "# Haha it says Frank Hornby is a giraffe!!! Need to make sure not to use this row then"
   ]
  },
  {
   "cell_type": "code",
   "execution_count": 11,
   "metadata": {},
   "outputs": [
    {
     "data": {
      "text/html": [
       "<div>\n",
       "<style scoped>\n",
       "    .dataframe tbody tr th:only-of-type {\n",
       "        vertical-align: middle;\n",
       "    }\n",
       "\n",
       "    .dataframe tbody tr th {\n",
       "        vertical-align: top;\n",
       "    }\n",
       "\n",
       "    .dataframe thead th {\n",
       "        text-align: right;\n",
       "    }\n",
       "</style>\n",
       "<table border=\"1\" class=\"dataframe\">\n",
       "  <thead>\n",
       "    <tr style=\"text-align: right;\">\n",
       "      <th></th>\n",
       "      <th>order_seen</th>\n",
       "      <th>name</th>\n",
       "      <th>age</th>\n",
       "      <th>num_barks</th>\n",
       "      <th>waggy_tail</th>\n",
       "      <th>length</th>\n",
       "      <th>height</th>\n",
       "      <th>leg_length</th>\n",
       "      <th>tail_length</th>\n",
       "      <th>weight</th>\n",
       "      <th>long_haired</th>\n",
       "      <th>scary</th>\n",
       "      <th>one_direction_or_beethoven</th>\n",
       "      <th>notes</th>\n",
       "    </tr>\n",
       "  </thead>\n",
       "  <tbody>\n",
       "  </tbody>\n",
       "</table>\n",
       "</div>"
      ],
      "text/plain": [
       "Empty DataFrame\n",
       "Columns: [order_seen, name, age, num_barks, waggy_tail, length, height, leg_length, tail_length, weight, long_haired, scary, one_direction_or_beethoven, notes]\n",
       "Index: []"
      ]
     },
     "execution_count": 11,
     "metadata": {},
     "output_type": "execute_result"
    }
   ],
   "source": [
    "doggy_data[doggy_data.tail_length < 0]"
   ]
  },
  {
   "cell_type": "markdown",
   "metadata": {},
   "source": [
    "##### Checking leg length data points that aren't possible"
   ]
  },
  {
   "cell_type": "code",
   "execution_count": 12,
   "metadata": {},
   "outputs": [
    {
     "data": {
      "text/html": [
       "<div>\n",
       "<style scoped>\n",
       "    .dataframe tbody tr th:only-of-type {\n",
       "        vertical-align: middle;\n",
       "    }\n",
       "\n",
       "    .dataframe tbody tr th {\n",
       "        vertical-align: top;\n",
       "    }\n",
       "\n",
       "    .dataframe thead th {\n",
       "        text-align: right;\n",
       "    }\n",
       "</style>\n",
       "<table border=\"1\" class=\"dataframe\">\n",
       "  <thead>\n",
       "    <tr style=\"text-align: right;\">\n",
       "      <th></th>\n",
       "      <th>order_seen</th>\n",
       "      <th>name</th>\n",
       "      <th>age</th>\n",
       "      <th>num_barks</th>\n",
       "      <th>waggy_tail</th>\n",
       "      <th>length</th>\n",
       "      <th>height</th>\n",
       "      <th>leg_length</th>\n",
       "      <th>tail_length</th>\n",
       "      <th>weight</th>\n",
       "      <th>long_haired</th>\n",
       "      <th>scary</th>\n",
       "      <th>one_direction_or_beethoven</th>\n",
       "      <th>notes</th>\n",
       "    </tr>\n",
       "  </thead>\n",
       "  <tbody>\n",
       "    <tr>\n",
       "      <th>14</th>\n",
       "      <td>14</td>\n",
       "      <td>Frank Hornby</td>\n",
       "      <td>1</td>\n",
       "      <td>0</td>\n",
       "      <td>True</td>\n",
       "      <td>180.000000</td>\n",
       "      <td>550.000000</td>\n",
       "      <td>200.000000</td>\n",
       "      <td>100.000000</td>\n",
       "      <td>1200.000000</td>\n",
       "      <td>0</td>\n",
       "      <td>0</td>\n",
       "      <td>Beethoven</td>\n",
       "      <td>Frank Hornby is a giraffe</td>\n",
       "    </tr>\n",
       "    <tr>\n",
       "      <th>68</th>\n",
       "      <td>68</td>\n",
       "      <td>Pliny the Elder</td>\n",
       "      <td>3</td>\n",
       "      <td>9</td>\n",
       "      <td>True</td>\n",
       "      <td>97.900357</td>\n",
       "      <td>50.766867</td>\n",
       "      <td>2295.152851</td>\n",
       "      <td>24.212034</td>\n",
       "      <td>49.318271</td>\n",
       "      <td>0</td>\n",
       "      <td>0</td>\n",
       "      <td>Beethoven</td>\n",
       "      <td>NaN</td>\n",
       "    </tr>\n",
       "  </tbody>\n",
       "</table>\n",
       "</div>"
      ],
      "text/plain": [
       "    order_seen             name  age  num_barks  waggy_tail      length  \\\n",
       "14          14     Frank Hornby    1          0        True  180.000000   \n",
       "68          68  Pliny the Elder    3          9        True   97.900357   \n",
       "\n",
       "        height   leg_length  tail_length       weight  long_haired  scary  \\\n",
       "14  550.000000   200.000000   100.000000  1200.000000            0      0   \n",
       "68   50.766867  2295.152851    24.212034    49.318271            0      0   \n",
       "\n",
       "   one_direction_or_beethoven                      notes  \n",
       "14                  Beethoven  Frank Hornby is a giraffe  \n",
       "68                  Beethoven                        NaN  "
      ]
     },
     "execution_count": 12,
     "metadata": {},
     "output_type": "execute_result"
    }
   ],
   "source": [
    "doggy_data[doggy_data.leg_length > 27]"
   ]
  },
  {
   "cell_type": "code",
   "execution_count": 13,
   "metadata": {},
   "outputs": [
    {
     "data": {
      "text/html": [
       "<div>\n",
       "<style scoped>\n",
       "    .dataframe tbody tr th:only-of-type {\n",
       "        vertical-align: middle;\n",
       "    }\n",
       "\n",
       "    .dataframe tbody tr th {\n",
       "        vertical-align: top;\n",
       "    }\n",
       "\n",
       "    .dataframe thead th {\n",
       "        text-align: right;\n",
       "    }\n",
       "</style>\n",
       "<table border=\"1\" class=\"dataframe\">\n",
       "  <thead>\n",
       "    <tr style=\"text-align: right;\">\n",
       "      <th></th>\n",
       "      <th>order_seen</th>\n",
       "      <th>name</th>\n",
       "      <th>age</th>\n",
       "      <th>num_barks</th>\n",
       "      <th>waggy_tail</th>\n",
       "      <th>length</th>\n",
       "      <th>height</th>\n",
       "      <th>leg_length</th>\n",
       "      <th>tail_length</th>\n",
       "      <th>weight</th>\n",
       "      <th>long_haired</th>\n",
       "      <th>scary</th>\n",
       "      <th>one_direction_or_beethoven</th>\n",
       "      <th>notes</th>\n",
       "    </tr>\n",
       "  </thead>\n",
       "  <tbody>\n",
       "    <tr>\n",
       "      <th>82</th>\n",
       "      <td>82</td>\n",
       "      <td>Wilhelm Wundt</td>\n",
       "      <td>6</td>\n",
       "      <td>8</td>\n",
       "      <td>True</td>\n",
       "      <td>43.571511</td>\n",
       "      <td>22.693076</td>\n",
       "      <td>2.827122</td>\n",
       "      <td>8.467112</td>\n",
       "      <td>7.347856</td>\n",
       "      <td>0</td>\n",
       "      <td>0</td>\n",
       "      <td>Beethoven</td>\n",
       "      <td>NaN</td>\n",
       "    </tr>\n",
       "    <tr>\n",
       "      <th>156</th>\n",
       "      <td>156</td>\n",
       "      <td>Dian Fossey</td>\n",
       "      <td>3</td>\n",
       "      <td>2</td>\n",
       "      <td>True</td>\n",
       "      <td>41.502484</td>\n",
       "      <td>18.843955</td>\n",
       "      <td>2.773595</td>\n",
       "      <td>8.921205</td>\n",
       "      <td>10.303561</td>\n",
       "      <td>0</td>\n",
       "      <td>0</td>\n",
       "      <td>Beethoven</td>\n",
       "      <td>NaN</td>\n",
       "    </tr>\n",
       "    <tr>\n",
       "      <th>187</th>\n",
       "      <td>187</td>\n",
       "      <td>Polly Matzinger</td>\n",
       "      <td>1</td>\n",
       "      <td>1</td>\n",
       "      <td>True</td>\n",
       "      <td>47.774033</td>\n",
       "      <td>18.685226</td>\n",
       "      <td>2.947762</td>\n",
       "      <td>9.738150</td>\n",
       "      <td>11.151887</td>\n",
       "      <td>0</td>\n",
       "      <td>1</td>\n",
       "      <td>Beethoven</td>\n",
       "      <td>NaN</td>\n",
       "    </tr>\n",
       "  </tbody>\n",
       "</table>\n",
       "</div>"
      ],
      "text/plain": [
       "     order_seen             name  age  num_barks  waggy_tail     length  \\\n",
       "82           82    Wilhelm Wundt    6          8        True  43.571511   \n",
       "156         156      Dian Fossey    3          2        True  41.502484   \n",
       "187         187  Polly Matzinger    1          1        True  47.774033   \n",
       "\n",
       "        height  leg_length  tail_length     weight  long_haired  scary  \\\n",
       "82   22.693076    2.827122     8.467112   7.347856            0      0   \n",
       "156  18.843955    2.773595     8.921205  10.303561            0      0   \n",
       "187  18.685226    2.947762     9.738150  11.151887            0      1   \n",
       "\n",
       "    one_direction_or_beethoven notes  \n",
       "82                   Beethoven   NaN  \n",
       "156                  Beethoven   NaN  \n",
       "187                  Beethoven   NaN  "
      ]
     },
     "execution_count": 13,
     "metadata": {},
     "output_type": "execute_result"
    }
   ],
   "source": [
    "doggy_data[doggy_data.leg_length < 3]"
   ]
  },
  {
   "cell_type": "markdown",
   "metadata": {},
   "source": [
    "##### Checking height data points that aren't possible"
   ]
  },
  {
   "cell_type": "code",
   "execution_count": 14,
   "metadata": {},
   "outputs": [
    {
     "data": {
      "text/html": [
       "<div>\n",
       "<style scoped>\n",
       "    .dataframe tbody tr th:only-of-type {\n",
       "        vertical-align: middle;\n",
       "    }\n",
       "\n",
       "    .dataframe tbody tr th {\n",
       "        vertical-align: top;\n",
       "    }\n",
       "\n",
       "    .dataframe thead th {\n",
       "        text-align: right;\n",
       "    }\n",
       "</style>\n",
       "<table border=\"1\" class=\"dataframe\">\n",
       "  <thead>\n",
       "    <tr style=\"text-align: right;\">\n",
       "      <th></th>\n",
       "      <th>order_seen</th>\n",
       "      <th>name</th>\n",
       "      <th>age</th>\n",
       "      <th>num_barks</th>\n",
       "      <th>waggy_tail</th>\n",
       "      <th>length</th>\n",
       "      <th>height</th>\n",
       "      <th>leg_length</th>\n",
       "      <th>tail_length</th>\n",
       "      <th>weight</th>\n",
       "      <th>long_haired</th>\n",
       "      <th>scary</th>\n",
       "      <th>one_direction_or_beethoven</th>\n",
       "      <th>notes</th>\n",
       "    </tr>\n",
       "  </thead>\n",
       "  <tbody>\n",
       "    <tr>\n",
       "      <th>14</th>\n",
       "      <td>14</td>\n",
       "      <td>Frank Hornby</td>\n",
       "      <td>1</td>\n",
       "      <td>0</td>\n",
       "      <td>True</td>\n",
       "      <td>180.0</td>\n",
       "      <td>550.0</td>\n",
       "      <td>200.0</td>\n",
       "      <td>100.0</td>\n",
       "      <td>1200.0</td>\n",
       "      <td>0</td>\n",
       "      <td>0</td>\n",
       "      <td>Beethoven</td>\n",
       "      <td>Frank Hornby is a giraffe</td>\n",
       "    </tr>\n",
       "  </tbody>\n",
       "</table>\n",
       "</div>"
      ],
      "text/plain": [
       "    order_seen          name  age  num_barks  waggy_tail  length  height  \\\n",
       "14          14  Frank Hornby    1          0        True   180.0   550.0   \n",
       "\n",
       "    leg_length  tail_length  weight  long_haired  scary  \\\n",
       "14       200.0        100.0  1200.0            0      0   \n",
       "\n",
       "   one_direction_or_beethoven                      notes  \n",
       "14                  Beethoven  Frank Hornby is a giraffe  "
      ]
     },
     "execution_count": 14,
     "metadata": {},
     "output_type": "execute_result"
    }
   ],
   "source": [
    "doggy_data[doggy_data.height > 111.8]"
   ]
  },
  {
   "cell_type": "code",
   "execution_count": 15,
   "metadata": {},
   "outputs": [
    {
     "data": {
      "text/html": [
       "<div>\n",
       "<style scoped>\n",
       "    .dataframe tbody tr th:only-of-type {\n",
       "        vertical-align: middle;\n",
       "    }\n",
       "\n",
       "    .dataframe tbody tr th {\n",
       "        vertical-align: top;\n",
       "    }\n",
       "\n",
       "    .dataframe thead th {\n",
       "        text-align: right;\n",
       "    }\n",
       "</style>\n",
       "<table border=\"1\" class=\"dataframe\">\n",
       "  <thead>\n",
       "    <tr style=\"text-align: right;\">\n",
       "      <th></th>\n",
       "      <th>order_seen</th>\n",
       "      <th>name</th>\n",
       "      <th>age</th>\n",
       "      <th>num_barks</th>\n",
       "      <th>waggy_tail</th>\n",
       "      <th>length</th>\n",
       "      <th>height</th>\n",
       "      <th>leg_length</th>\n",
       "      <th>tail_length</th>\n",
       "      <th>weight</th>\n",
       "      <th>long_haired</th>\n",
       "      <th>scary</th>\n",
       "      <th>one_direction_or_beethoven</th>\n",
       "      <th>notes</th>\n",
       "    </tr>\n",
       "  </thead>\n",
       "  <tbody>\n",
       "    <tr>\n",
       "      <th>126</th>\n",
       "      <td>126</td>\n",
       "      <td>Ada Lovelace</td>\n",
       "      <td>7</td>\n",
       "      <td>3</td>\n",
       "      <td>True</td>\n",
       "      <td>54.670222</td>\n",
       "      <td>-45.147872</td>\n",
       "      <td>23.966309</td>\n",
       "      <td>13.080918</td>\n",
       "      <td>19.788443</td>\n",
       "      <td>0</td>\n",
       "      <td>0</td>\n",
       "      <td>Beethoven</td>\n",
       "      <td>NaN</td>\n",
       "    </tr>\n",
       "  </tbody>\n",
       "</table>\n",
       "</div>"
      ],
      "text/plain": [
       "     order_seen          name  age  num_barks  waggy_tail     length  \\\n",
       "126         126  Ada Lovelace    7          3        True  54.670222   \n",
       "\n",
       "        height  leg_length  tail_length     weight  long_haired  scary  \\\n",
       "126 -45.147872   23.966309    13.080918  19.788443            0      0   \n",
       "\n",
       "    one_direction_or_beethoven notes  \n",
       "126                  Beethoven   NaN  "
      ]
     },
     "execution_count": 15,
     "metadata": {},
     "output_type": "execute_result"
    }
   ],
   "source": [
    "doggy_data[doggy_data.height < 9.65]"
   ]
  },
  {
   "cell_type": "markdown",
   "metadata": {},
   "source": [
    "##### Checking length data points that aren't possible"
   ]
  },
  {
   "cell_type": "code",
   "execution_count": 16,
   "metadata": {},
   "outputs": [
    {
     "data": {
      "text/html": [
       "<div>\n",
       "<style scoped>\n",
       "    .dataframe tbody tr th:only-of-type {\n",
       "        vertical-align: middle;\n",
       "    }\n",
       "\n",
       "    .dataframe tbody tr th {\n",
       "        vertical-align: top;\n",
       "    }\n",
       "\n",
       "    .dataframe thead th {\n",
       "        text-align: right;\n",
       "    }\n",
       "</style>\n",
       "<table border=\"1\" class=\"dataframe\">\n",
       "  <thead>\n",
       "    <tr style=\"text-align: right;\">\n",
       "      <th></th>\n",
       "      <th>order_seen</th>\n",
       "      <th>name</th>\n",
       "      <th>age</th>\n",
       "      <th>num_barks</th>\n",
       "      <th>waggy_tail</th>\n",
       "      <th>length</th>\n",
       "      <th>height</th>\n",
       "      <th>leg_length</th>\n",
       "      <th>tail_length</th>\n",
       "      <th>weight</th>\n",
       "      <th>long_haired</th>\n",
       "      <th>scary</th>\n",
       "      <th>one_direction_or_beethoven</th>\n",
       "      <th>notes</th>\n",
       "    </tr>\n",
       "  </thead>\n",
       "  <tbody>\n",
       "    <tr>\n",
       "      <th>14</th>\n",
       "      <td>14</td>\n",
       "      <td>Frank Hornby</td>\n",
       "      <td>1</td>\n",
       "      <td>0</td>\n",
       "      <td>True</td>\n",
       "      <td>180.000000</td>\n",
       "      <td>550.000000</td>\n",
       "      <td>200.000000</td>\n",
       "      <td>100.000000</td>\n",
       "      <td>1200.000000</td>\n",
       "      <td>0</td>\n",
       "      <td>0</td>\n",
       "      <td>Beethoven</td>\n",
       "      <td>Frank Hornby is a giraffe</td>\n",
       "    </tr>\n",
       "    <tr>\n",
       "      <th>151</th>\n",
       "      <td>151</td>\n",
       "      <td>Srinivasa Ramanujan</td>\n",
       "      <td>3</td>\n",
       "      <td>0</td>\n",
       "      <td>True</td>\n",
       "      <td>170.483037</td>\n",
       "      <td>34.294323</td>\n",
       "      <td>19.060358</td>\n",
       "      <td>16.038163</td>\n",
       "      <td>46.876142</td>\n",
       "      <td>0</td>\n",
       "      <td>0</td>\n",
       "      <td>Beethoven</td>\n",
       "      <td>NaN</td>\n",
       "    </tr>\n",
       "  </tbody>\n",
       "</table>\n",
       "</div>"
      ],
      "text/plain": [
       "     order_seen                 name  age  num_barks  waggy_tail      length  \\\n",
       "14           14         Frank Hornby    1          0        True  180.000000   \n",
       "151         151  Srinivasa Ramanujan    3          0        True  170.483037   \n",
       "\n",
       "         height  leg_length  tail_length       weight  long_haired  scary  \\\n",
       "14   550.000000  200.000000   100.000000  1200.000000            0      0   \n",
       "151   34.294323   19.060358    16.038163    46.876142            0      0   \n",
       "\n",
       "    one_direction_or_beethoven                      notes  \n",
       "14                   Beethoven  Frank Hornby is a giraffe  \n",
       "151                  Beethoven                        NaN  "
      ]
     },
     "execution_count": 16,
     "metadata": {},
     "output_type": "execute_result"
    }
   ],
   "source": [
    "doggy_data[doggy_data.length > 150]"
   ]
  },
  {
   "cell_type": "code",
   "execution_count": 17,
   "metadata": {},
   "outputs": [
    {
     "data": {
      "text/html": [
       "<div>\n",
       "<style scoped>\n",
       "    .dataframe tbody tr th:only-of-type {\n",
       "        vertical-align: middle;\n",
       "    }\n",
       "\n",
       "    .dataframe tbody tr th {\n",
       "        vertical-align: top;\n",
       "    }\n",
       "\n",
       "    .dataframe thead th {\n",
       "        text-align: right;\n",
       "    }\n",
       "</style>\n",
       "<table border=\"1\" class=\"dataframe\">\n",
       "  <thead>\n",
       "    <tr style=\"text-align: right;\">\n",
       "      <th></th>\n",
       "      <th>order_seen</th>\n",
       "      <th>name</th>\n",
       "      <th>age</th>\n",
       "      <th>num_barks</th>\n",
       "      <th>waggy_tail</th>\n",
       "      <th>length</th>\n",
       "      <th>height</th>\n",
       "      <th>leg_length</th>\n",
       "      <th>tail_length</th>\n",
       "      <th>weight</th>\n",
       "      <th>long_haired</th>\n",
       "      <th>scary</th>\n",
       "      <th>one_direction_or_beethoven</th>\n",
       "      <th>notes</th>\n",
       "    </tr>\n",
       "  </thead>\n",
       "  <tbody>\n",
       "  </tbody>\n",
       "</table>\n",
       "</div>"
      ],
      "text/plain": [
       "Empty DataFrame\n",
       "Columns: [order_seen, name, age, num_barks, waggy_tail, length, height, leg_length, tail_length, weight, long_haired, scary, one_direction_or_beethoven, notes]\n",
       "Index: []"
      ]
     },
     "execution_count": 17,
     "metadata": {},
     "output_type": "execute_result"
    }
   ],
   "source": [
    "doggy_data[doggy_data.length < 8.5]"
   ]
  },
  {
   "cell_type": "markdown",
   "metadata": {},
   "source": [
    "### Observations \n",
    "- Definitely an error recording the data there is no possible way to have a 2000 cm tail.(Yikes!!!! 65 foot tail 😲)\n",
    "- Frank Hornby is a giraffe not a dog!!! 😲\n"
   ]
  },
  {
   "cell_type": "markdown",
   "metadata": {},
   "source": [
    "### Getting rid of the outlier data and checking distribution again"
   ]
  },
  {
   "cell_type": "code",
   "execution_count": 18,
   "metadata": {},
   "outputs": [],
   "source": [
    "# Cleaning the dataset\n",
    "doggy_data = doggy_data[(doggy_data.weight <= 155) & (doggy_data.weight >= .5)]\n",
    "doggy_data = doggy_data[(doggy_data.tail_length <= 78) & (doggy_data.tail_length >= 0)]\n",
    "doggy_data = doggy_data[(doggy_data.leg_length <= 27) & (doggy_data.leg_length >= 3)]\n",
    "doggy_data = doggy_data[(doggy_data.height <= 111.8) & (doggy_data.height >= 9.65)]\n",
    "doggy_data = doggy_data[(doggy_data.length <= 150) & (doggy_data.length >= 8.5)]"
   ]
  },
  {
   "cell_type": "markdown",
   "metadata": {},
   "source": [
    "- We end up getting rid of 8 data points"
   ]
  },
  {
   "cell_type": "code",
   "execution_count": 19,
   "metadata": {},
   "outputs": [
    {
     "data": {
      "text/plain": [
       "<matplotlib.figure.Figure at 0x10ba165f8>"
      ]
     },
     "metadata": {},
     "output_type": "display_data"
    },
    {
     "data": {
      "image/png": "[encoded data removed]",
      "text/plain": [
       "<matplotlib.figure.Figure at 0x10b961e80>"
      ]
     },
     "metadata": {},
     "output_type": "display_data"
    },
    {
     "data": {
      "text/plain": [
       "<matplotlib.figure.Figure at 0x10b961ac8>"
      ]
     },
     "metadata": {},
     "output_type": "display_data"
    },
    {
     "data": {
      "image/png": "[encoded data removed]",
      "text/plain": [
       "<matplotlib.figure.Figure at 0x10bc13668>"
      ]
     },
     "metadata": {},
     "output_type": "display_data"
    },
    {
     "data": {
      "text/plain": [
       "<matplotlib.figure.Figure at 0x10bc4cf60>"
      ]
     },
     "metadata": {},
     "output_type": "display_data"
    },
    {
     "data": {
      "image/png": "[encoded data removed]",
      "text/plain": [
       "<matplotlib.figure.Figure at 0x10bc6bb00>"
      ]
     },
     "metadata": {},
     "output_type": "display_data"
    },
    {
     "data": {
      "text/plain": [
       "<matplotlib.figure.Figure at 0x10bc6bb70>"
      ]
     },
     "metadata": {},
     "output_type": "display_data"
    },
    {
     "data": {
      "image/png": "[encoded data removed]",
      "text/plain": [
       "<matplotlib.figure.Figure at 0x10bcba9e8>"
      ]
     },
     "metadata": {},
     "output_type": "display_data"
    },
    {
     "data": {
      "text/plain": [
       "<matplotlib.figure.Figure at 0x10bcbaa58>"
      ]
     },
     "metadata": {},
     "output_type": "display_data"
    },
    {
     "data": {
      "image/png": "[encoded data removed]",
      "text/plain": [
       "<matplotlib.figure.Figure at 0x10bd12cc0>"
      ]
     },
     "metadata": {},
     "output_type": "display_data"
    }
   ],
   "source": [
    "# Creating histograms for numerical data after data set has been cleaned to a certain extent\n",
    "for column in doggy_data.select_dtypes(include='float').columns.tolist():\n",
    "    plt.figure()\n",
    "    doggy_data.hist([column])"
   ]
  },
  {
   "cell_type": "markdown",
   "metadata": {},
   "source": [
    "### Observations\n",
    "- The data includes a lot of dogs who weigh in on the lower end.\n",
    "- Interestingly there aren't any dogs who have a length in between 70 cm to 82 cm. \n",
    "- Overall the dataset seems to be skewed more to the right with a majority of the data representing the lower end."
   ]
  },
  {
   "cell_type": "markdown",
   "metadata": {},
   "source": [
    "### Checking the notes column"
   ]
  },
  {
   "cell_type": "code",
   "execution_count": 20,
   "metadata": {},
   "outputs": [
    {
     "data": {
      "text/html": [
       "<div>\n",
       "<style scoped>\n",
       "    .dataframe tbody tr th:only-of-type {\n",
       "        vertical-align: middle;\n",
       "    }\n",
       "\n",
       "    .dataframe tbody tr th {\n",
       "        vertical-align: top;\n",
       "    }\n",
       "\n",
       "    .dataframe thead th {\n",
       "        text-align: right;\n",
       "    }\n",
       "</style>\n",
       "<table border=\"1\" class=\"dataframe\">\n",
       "  <thead>\n",
       "    <tr style=\"text-align: right;\">\n",
       "      <th></th>\n",
       "      <th>order_seen</th>\n",
       "      <th>name</th>\n",
       "      <th>age</th>\n",
       "      <th>num_barks</th>\n",
       "      <th>waggy_tail</th>\n",
       "      <th>length</th>\n",
       "      <th>height</th>\n",
       "      <th>leg_length</th>\n",
       "      <th>tail_length</th>\n",
       "      <th>weight</th>\n",
       "      <th>long_haired</th>\n",
       "      <th>scary</th>\n",
       "      <th>one_direction_or_beethoven</th>\n",
       "      <th>notes</th>\n",
       "    </tr>\n",
       "  </thead>\n",
       "  <tbody>\n",
       "    <tr>\n",
       "      <th>1</th>\n",
       "      <td>1</td>\n",
       "      <td>Hermann Rorschach</td>\n",
       "      <td>1</td>\n",
       "      <td>0</td>\n",
       "      <td>True</td>\n",
       "      <td>90.782174</td>\n",
       "      <td>50.869246</td>\n",
       "      <td>19.315325</td>\n",
       "      <td>19.270638</td>\n",
       "      <td>48.248392</td>\n",
       "      <td>0</td>\n",
       "      <td>0</td>\n",
       "      <td>Beethoven</td>\n",
       "      <td>Strange, mesmeric markings</td>\n",
       "    </tr>\n",
       "    <tr>\n",
       "      <th>13</th>\n",
       "      <td>13</td>\n",
       "      <td>Bernardo Houssay</td>\n",
       "      <td>6</td>\n",
       "      <td>0</td>\n",
       "      <td>False</td>\n",
       "      <td>52.932418</td>\n",
       "      <td>41.802584</td>\n",
       "      <td>25.014228</td>\n",
       "      <td>11.313890</td>\n",
       "      <td>17.111295</td>\n",
       "      <td>0</td>\n",
       "      <td>0</td>\n",
       "      <td>One Direction</td>\n",
       "      <td>This dog was unconscious</td>\n",
       "    </tr>\n",
       "    <tr>\n",
       "      <th>44</th>\n",
       "      <td>44</td>\n",
       "      <td>Leland Clark</td>\n",
       "      <td>1</td>\n",
       "      <td>7</td>\n",
       "      <td>True</td>\n",
       "      <td>44.603271</td>\n",
       "      <td>15.276438</td>\n",
       "      <td>3.389800</td>\n",
       "      <td>8.355893</td>\n",
       "      <td>8.764983</td>\n",
       "      <td>0</td>\n",
       "      <td>0</td>\n",
       "      <td>Beethoven</td>\n",
       "      <td>Starting to think this experiment is flawed</td>\n",
       "    </tr>\n",
       "    <tr>\n",
       "      <th>48</th>\n",
       "      <td>48</td>\n",
       "      <td>Sigmund Freud</td>\n",
       "      <td>1</td>\n",
       "      <td>3</td>\n",
       "      <td>True</td>\n",
       "      <td>49.001402</td>\n",
       "      <td>25.638050</td>\n",
       "      <td>4.278318</td>\n",
       "      <td>9.916187</td>\n",
       "      <td>10.656061</td>\n",
       "      <td>0</td>\n",
       "      <td>0</td>\n",
       "      <td>Beethoven</td>\n",
       "      <td>Bit his father on the way in</td>\n",
       "    </tr>\n",
       "    <tr>\n",
       "      <th>74</th>\n",
       "      <td>74</td>\n",
       "      <td>Michael Faraday</td>\n",
       "      <td>7</td>\n",
       "      <td>10</td>\n",
       "      <td>True</td>\n",
       "      <td>54.964761</td>\n",
       "      <td>37.088163</td>\n",
       "      <td>16.802679</td>\n",
       "      <td>2.742588</td>\n",
       "      <td>22.082437</td>\n",
       "      <td>0</td>\n",
       "      <td>0</td>\n",
       "      <td>One Direction</td>\n",
       "      <td>Passed out</td>\n",
       "    </tr>\n",
       "    <tr>\n",
       "      <th>75</th>\n",
       "      <td>75</td>\n",
       "      <td>Lise Meitner</td>\n",
       "      <td>15</td>\n",
       "      <td>12</td>\n",
       "      <td>False</td>\n",
       "      <td>48.884595</td>\n",
       "      <td>23.086980</td>\n",
       "      <td>6.308661</td>\n",
       "      <td>8.990304</td>\n",
       "      <td>9.414882</td>\n",
       "      <td>0</td>\n",
       "      <td>0</td>\n",
       "      <td>Beethoven</td>\n",
       "      <td>Same as last time</td>\n",
       "    </tr>\n",
       "    <tr>\n",
       "      <th>105</th>\n",
       "      <td>105</td>\n",
       "      <td>Johannes Kepler</td>\n",
       "      <td>4</td>\n",
       "      <td>4</td>\n",
       "      <td>True</td>\n",
       "      <td>49.150758</td>\n",
       "      <td>25.806126</td>\n",
       "      <td>4.187190</td>\n",
       "      <td>9.399658</td>\n",
       "      <td>13.931913</td>\n",
       "      <td>1</td>\n",
       "      <td>0</td>\n",
       "      <td>One Direction</td>\n",
       "      <td>Too sick to eat</td>\n",
       "    </tr>\n",
       "    <tr>\n",
       "      <th>106</th>\n",
       "      <td>106</td>\n",
       "      <td>Gregor Mendel</td>\n",
       "      <td>1</td>\n",
       "      <td>4</td>\n",
       "      <td>True</td>\n",
       "      <td>48.248429</td>\n",
       "      <td>36.198230</td>\n",
       "      <td>17.608247</td>\n",
       "      <td>13.393498</td>\n",
       "      <td>26.050855</td>\n",
       "      <td>0</td>\n",
       "      <td>0</td>\n",
       "      <td>Beethoven</td>\n",
       "      <td>No, I am convinced that I am right, dogs do pr...</td>\n",
       "    </tr>\n",
       "    <tr>\n",
       "      <th>119</th>\n",
       "      <td>119</td>\n",
       "      <td>Henri Poincaré</td>\n",
       "      <td>9</td>\n",
       "      <td>0</td>\n",
       "      <td>True</td>\n",
       "      <td>63.712387</td>\n",
       "      <td>48.824309</td>\n",
       "      <td>22.648822</td>\n",
       "      <td>14.865327</td>\n",
       "      <td>27.366709</td>\n",
       "      <td>0</td>\n",
       "      <td>0</td>\n",
       "      <td>Beethoven</td>\n",
       "      <td>Potentially brain damaged - jumped on my table...</td>\n",
       "    </tr>\n",
       "    <tr>\n",
       "      <th>173</th>\n",
       "      <td>173</td>\n",
       "      <td>Ivan Pavlov</td>\n",
       "      <td>3</td>\n",
       "      <td>0</td>\n",
       "      <td>True</td>\n",
       "      <td>46.387591</td>\n",
       "      <td>18.317677</td>\n",
       "      <td>5.720620</td>\n",
       "      <td>21.992008</td>\n",
       "      <td>9.371817</td>\n",
       "      <td>1</td>\n",
       "      <td>1</td>\n",
       "      <td>Beethoven</td>\n",
       "      <td>Unusually slobbery</td>\n",
       "    </tr>\n",
       "    <tr>\n",
       "      <th>189</th>\n",
       "      <td>189</td>\n",
       "      <td>Rosalind Franklin</td>\n",
       "      <td>0</td>\n",
       "      <td>7</td>\n",
       "      <td>True</td>\n",
       "      <td>45.596245</td>\n",
       "      <td>31.386409</td>\n",
       "      <td>17.765019</td>\n",
       "      <td>2.281514</td>\n",
       "      <td>12.393472</td>\n",
       "      <td>0</td>\n",
       "      <td>0</td>\n",
       "      <td>Beethoven</td>\n",
       "      <td>Seemed hungry. I later discovered two dogs cal...</td>\n",
       "    </tr>\n",
       "  </tbody>\n",
       "</table>\n",
       "</div>"
      ],
      "text/plain": [
       "     order_seen               name  age  num_barks  waggy_tail     length  \\\n",
       "1             1  Hermann Rorschach    1          0        True  90.782174   \n",
       "13           13   Bernardo Houssay    6          0       False  52.932418   \n",
       "44           44       Leland Clark    1          7        True  44.603271   \n",
       "48           48      Sigmund Freud    1          3        True  49.001402   \n",
       "74           74    Michael Faraday    7         10        True  54.964761   \n",
       "75           75       Lise Meitner   15         12       False  48.884595   \n",
       "105         105    Johannes Kepler    4          4        True  49.150758   \n",
       "106         106      Gregor Mendel    1          4        True  48.248429   \n",
       "119         119     Henri Poincaré    9          0        True  63.712387   \n",
       "173         173        Ivan Pavlov    3          0        True  46.387591   \n",
       "189         189  Rosalind Franklin    0          7        True  45.596245   \n",
       "\n",
       "        height  leg_length  tail_length     weight  long_haired  scary  \\\n",
       "1    50.869246   19.315325    19.270638  48.248392            0      0   \n",
       "13   41.802584   25.014228    11.313890  17.111295            0      0   \n",
       "44   15.276438    3.389800     8.355893   8.764983            0      0   \n",
       "48   25.638050    4.278318     9.916187  10.656061            0      0   \n",
       "74   37.088163   16.802679     2.742588  22.082437            0      0   \n",
       "75   23.086980    6.308661     8.990304   9.414882            0      0   \n",
       "105  25.806126    4.187190     9.399658  13.931913            1      0   \n",
       "106  36.198230   17.608247    13.393498  26.050855            0      0   \n",
       "119  48.824309   22.648822    14.865327  27.366709            0      0   \n",
       "173  18.317677    5.720620    21.992008   9.371817            1      1   \n",
       "189  31.386409   17.765019     2.281514  12.393472            0      0   \n",
       "\n",
       "    one_direction_or_beethoven  \\\n",
       "1                    Beethoven   \n",
       "13               One Direction   \n",
       "44                   Beethoven   \n",
       "48                   Beethoven   \n",
       "74               One Direction   \n",
       "75                   Beethoven   \n",
       "105              One Direction   \n",
       "106                  Beethoven   \n",
       "119                  Beethoven   \n",
       "173                  Beethoven   \n",
       "189                  Beethoven   \n",
       "\n",
       "                                                 notes  \n",
       "1                           Strange, mesmeric markings  \n",
       "13                            This dog was unconscious  \n",
       "44         Starting to think this experiment is flawed  \n",
       "48                        Bit his father on the way in  \n",
       "74                                          Passed out  \n",
       "75                                   Same as last time  \n",
       "105                                    Too sick to eat  \n",
       "106  No, I am convinced that I am right, dogs do pr...  \n",
       "119  Potentially brain damaged - jumped on my table...  \n",
       "173                                 Unusually slobbery  \n",
       "189  Seemed hungry. I later discovered two dogs cal...  "
      ]
     },
     "execution_count": 20,
     "metadata": {},
     "output_type": "execute_result"
    }
   ],
   "source": [
    "# Loading the data with only data points that have notes\n",
    "doggy_data[doggy_data.notes.notnull()]"
   ]
  },
  {
   "cell_type": "code",
   "execution_count": 21,
   "metadata": {},
   "outputs": [
    {
     "data": {
      "text/plain": [
       "Beethoven        189\n",
       "One Direction      3\n",
       "Name: one_direction_or_beethoven, dtype: int64"
      ]
     },
     "execution_count": 21,
     "metadata": {},
     "output_type": "execute_result"
    }
   ],
   "source": [
    "doggy_data.one_direction_or_beethoven.value_counts()"
   ]
  },
  {
   "cell_type": "code",
   "execution_count": 22,
   "metadata": {},
   "outputs": [
    {
     "data": {
      "text/plain": [
       "'No, I am convinced that I am right, dogs do prefer Beethoven. I leave a biscuit on the floor and tell the dog to eat it only if they prefer Beethoven, and they all do (with explainable exceptions)'"
      ]
     },
     "execution_count": 22,
     "metadata": {},
     "output_type": "execute_result"
    }
   ],
   "source": [
    "doggy_data[doggy_data.notes.notnull()]['notes'][106]"
   ]
  },
  {
   "cell_type": "markdown",
   "metadata": {},
   "source": [
    "### Observations\n",
    "\n",
    "- Wow all three times One Direction was played notes were written down.\n",
    "- In 2/3 instances One Direction was played the dog passed out interestingly enough.\n",
    "- The note associated with the dog named Gregor Mendel (106) seems to be interesting considering 189/192 instances Beethoven has been played and only 3 instances of One Direction which doesn't seem to be a fair split to make that judgement.\n",
    "- The notes have a negative sentiment.\n",
    "- One of the notes mentions a flawed experiment. (I'm assuming it was the Beethoven vs. One Direction choice)"
   ]
  },
  {
   "cell_type": "markdown",
   "metadata": {},
   "source": [
    "### Checking the Age Distribution"
   ]
  },
  {
   "cell_type": "code",
   "execution_count": 23,
   "metadata": {},
   "outputs": [
    {
     "data": {
      "text/plain": [
       "<matplotlib.axes._subplots.AxesSubplot at 0x1a0cbdc358>"
      ]
     },
     "execution_count": 23,
     "metadata": {},
     "output_type": "execute_result"
    },
    {
     "data": {
      "image/png": "[encoded data removed]",
      "text/plain": [
       "<matplotlib.figure.Figure at 0x10c0ab0b8>"
      ]
     },
     "metadata": {},
     "output_type": "display_data"
    }
   ],
   "source": [
    "doggy_data['age'].plot(kind='hist')"
   ]
  },
  {
   "cell_type": "markdown",
   "metadata": {},
   "source": [
    "### Question to think about\n",
    "\n",
    "- From online research typically smaller dogs live longer so for the ages 12 and above I wonder whether we can tell if they are on the smaller side?"
   ]
  },
  {
   "cell_type": "code",
   "execution_count": 24,
   "metadata": {},
   "outputs": [],
   "source": [
    "# Subsetting the data on older age\n",
    "doggy_age = doggy_data[doggy_data.age >= 12]"
   ]
  },
  {
   "cell_type": "code",
   "execution_count": 25,
   "metadata": {},
   "outputs": [
    {
     "data": {
      "text/plain": [
       "<matplotlib.figure.Figure at 0x10bcc4b70>"
      ]
     },
     "metadata": {},
     "output_type": "display_data"
    },
    {
     "data": {
      "image/png": "[encoded data removed]",
      "text/plain": [
       "<matplotlib.figure.Figure at 0x1a0cbed4a8>"
      ]
     },
     "metadata": {},
     "output_type": "display_data"
    },
    {
     "data": {
      "text/plain": [
       "<matplotlib.figure.Figure at 0x1a0cbed1d0>"
      ]
     },
     "metadata": {},
     "output_type": "display_data"
    },
    {
     "data": {
      "image/png": "[encoded data removed]",
      "text/plain": [
       "<matplotlib.figure.Figure at 0x10be8ceb8>"
      ]
     },
     "metadata": {},
     "output_type": "display_data"
    },
    {
     "data": {
      "text/plain": [
       "<matplotlib.figure.Figure at 0x10b7b09e8>"
      ]
     },
     "metadata": {},
     "output_type": "display_data"
    },
    {
     "data": {
      "image/png": "[encoded data removed]",
      "text/plain": [
       "<matplotlib.figure.Figure at 0x10b7ceac8>"
      ]
     },
     "metadata": {},
     "output_type": "display_data"
    },
    {
     "data": {
      "text/plain": [
       "<matplotlib.figure.Figure at 0x10b7cea20>"
      ]
     },
     "metadata": {},
     "output_type": "display_data"
    },
    {
     "data": {
      "image/png": "[encoded data removed]",
      "text/plain": [
       "<matplotlib.figure.Figure at 0x10b7efb00>"
      ]
     },
     "metadata": {},
     "output_type": "display_data"
    },
    {
     "data": {
      "text/plain": [
       "<matplotlib.figure.Figure at 0x10b7ef470>"
      ]
     },
     "metadata": {},
     "output_type": "display_data"
    },
    {
     "data": {
      "image/png": "[encoded data removed]",
      "text/plain": [
       "<matplotlib.figure.Figure at 0x10b939ba8>"
      ]
     },
     "metadata": {},
     "output_type": "display_data"
    }
   ],
   "source": [
    "# Creating histogram for the numerical data with age >= 12\n",
    "for column in doggy_age.select_dtypes(include='float').columns.tolist():\n",
    "    plt.figure()\n",
    "    doggy_age.hist([column])"
   ]
  },
  {
   "cell_type": "markdown",
   "metadata": {},
   "source": [
    "### Observations\n",
    "\n",
    "- For my previous question it seems to be the case for older ages the dogs tend to be smaller. (shown by the weight and height distributions)"
   ]
  },
  {
   "cell_type": "markdown",
   "metadata": {},
   "source": [
    "### Checking out common names"
   ]
  },
  {
   "cell_type": "code",
   "execution_count": 26,
   "metadata": {},
   "outputs": [
    {
     "data": {
      "text/plain": [
       "William        7\n",
       "John           6\n",
       "Alfred         4\n",
       "James          4\n",
       "Henry          4\n",
       "Alexander      4\n",
       "Benjamin       3\n",
       "Maria          3\n",
       "Joseph         3\n",
       "J.             3\n",
       "Thomas         3\n",
       "Robert         3\n",
       "Max            3\n",
       "Carl           3\n",
       "Charles        3\n",
       "Ibn            2\n",
       "Hans           2\n",
       "Hermann        2\n",
       "Michael        2\n",
       "Mary           2\n",
       "Willard        2\n",
       "Maurice        2\n",
       "Pyotr          1\n",
       "Justus         1\n",
       "Lucretius      1\n",
       "Galileo        1\n",
       "B.             1\n",
       "Alan           1\n",
       "Chen-Ning      1\n",
       "Emil           1\n",
       "              ..\n",
       "Macfarlane     1\n",
       "Mario          1\n",
       "Kristian       1\n",
       "Pierre         1\n",
       "Evangelista    1\n",
       "Albert         1\n",
       "Santiago       1\n",
       "Glenn          1\n",
       "Anaximander    1\n",
       "George         1\n",
       "Alhazen        1\n",
       "Ernest         1\n",
       "Democritus     1\n",
       "René           1\n",
       "Arthur         1\n",
       "Gregor         1\n",
       "Wolfgang       1\n",
       "Friedrich      1\n",
       "Tim            1\n",
       "Ivan           1\n",
       "Anders         1\n",
       "Walter         1\n",
       "Carolus        1\n",
       "Richard        1\n",
       "Gottlieb       1\n",
       "Ramon          1\n",
       "Katharine      1\n",
       "Grace          1\n",
       "Henri          1\n",
       "Linda          1\n",
       "Name: first_name, Length: 144, dtype: int64"
      ]
     },
     "execution_count": 26,
     "metadata": {},
     "output_type": "execute_result"
    }
   ],
   "source": [
    "# Splitting the name column to get first name\n",
    "doggy_data['first_name'] = [x.split()[0] for x in doggy_data.name]\n",
    "popular_names = doggy_data.first_name.value_counts()\n",
    "popular_names"
   ]
  },
  {
   "cell_type": "code",
   "execution_count": 27,
   "metadata": {},
   "outputs": [
    {
     "data": {
      "text/plain": [
       "70"
      ]
     },
     "execution_count": 27,
     "metadata": {},
     "output_type": "execute_result"
    }
   ],
   "source": [
    "# Getting the sum of the names that popped up more than once\n",
    "popular_names[popular_names > 1].sum()"
   ]
  },
  {
   "cell_type": "code",
   "execution_count": 28,
   "metadata": {},
   "outputs": [],
   "source": [
    "# Dropping the column I added in this section\n",
    "doggy_data = doggy_data.drop('first_name',axis=1)"
   ]
  },
  {
   "cell_type": "markdown",
   "metadata": {},
   "source": [
    "### Observations\n",
    "- Most common first names seem to be boy first names (Maria seems to be the first and that is 11th on the list).\n",
    "- 70/192 first names appear more than once in the dataset with boy names comprising a large majority of those."
   ]
  },
  {
   "cell_type": "markdown",
   "metadata": {},
   "source": [
    "### Checking the correlation between the variables"
   ]
  },
  {
   "cell_type": "code",
   "execution_count": 29,
   "metadata": {},
   "outputs": [
    {
     "data": {
      "text/html": [
       "<div>\n",
       "<style scoped>\n",
       "    .dataframe tbody tr th:only-of-type {\n",
       "        vertical-align: middle;\n",
       "    }\n",
       "\n",
       "    .dataframe tbody tr th {\n",
       "        vertical-align: top;\n",
       "    }\n",
       "\n",
       "    .dataframe thead th {\n",
       "        text-align: right;\n",
       "    }\n",
       "</style>\n",
       "<table border=\"1\" class=\"dataframe\">\n",
       "  <thead>\n",
       "    <tr style=\"text-align: right;\">\n",
       "      <th></th>\n",
       "      <th>order_seen</th>\n",
       "      <th>age</th>\n",
       "      <th>num_barks</th>\n",
       "      <th>waggy_tail</th>\n",
       "      <th>length</th>\n",
       "      <th>height</th>\n",
       "      <th>leg_length</th>\n",
       "      <th>tail_length</th>\n",
       "      <th>weight</th>\n",
       "      <th>long_haired</th>\n",
       "      <th>scary</th>\n",
       "    </tr>\n",
       "  </thead>\n",
       "  <tbody>\n",
       "    <tr>\n",
       "      <th>order_seen</th>\n",
       "      <td>1.000000</td>\n",
       "      <td>0.052993</td>\n",
       "      <td>-0.228644</td>\n",
       "      <td>-0.124826</td>\n",
       "      <td>-0.133720</td>\n",
       "      <td>-0.179926</td>\n",
       "      <td>-0.138288</td>\n",
       "      <td>-0.159653</td>\n",
       "      <td>-0.158081</td>\n",
       "      <td>0.009646</td>\n",
       "      <td>0.026687</td>\n",
       "    </tr>\n",
       "    <tr>\n",
       "      <th>age</th>\n",
       "      <td>0.052993</td>\n",
       "      <td>1.000000</td>\n",
       "      <td>0.083336</td>\n",
       "      <td>-0.510624</td>\n",
       "      <td>-0.179285</td>\n",
       "      <td>-0.245521</td>\n",
       "      <td>-0.269757</td>\n",
       "      <td>-0.058601</td>\n",
       "      <td>-0.211779</td>\n",
       "      <td>-0.097839</td>\n",
       "      <td>0.039124</td>\n",
       "    </tr>\n",
       "    <tr>\n",
       "      <th>num_barks</th>\n",
       "      <td>-0.228644</td>\n",
       "      <td>0.083336</td>\n",
       "      <td>1.000000</td>\n",
       "      <td>-0.100512</td>\n",
       "      <td>0.036445</td>\n",
       "      <td>0.031305</td>\n",
       "      <td>0.021169</td>\n",
       "      <td>0.029810</td>\n",
       "      <td>0.051422</td>\n",
       "      <td>0.034115</td>\n",
       "      <td>0.173036</td>\n",
       "    </tr>\n",
       "    <tr>\n",
       "      <th>waggy_tail</th>\n",
       "      <td>-0.124826</td>\n",
       "      <td>-0.510624</td>\n",
       "      <td>-0.100512</td>\n",
       "      <td>1.000000</td>\n",
       "      <td>0.060466</td>\n",
       "      <td>0.099706</td>\n",
       "      <td>0.131329</td>\n",
       "      <td>0.023652</td>\n",
       "      <td>0.083941</td>\n",
       "      <td>0.026557</td>\n",
       "      <td>0.059618</td>\n",
       "    </tr>\n",
       "    <tr>\n",
       "      <th>length</th>\n",
       "      <td>-0.133720</td>\n",
       "      <td>-0.179285</td>\n",
       "      <td>0.036445</td>\n",
       "      <td>0.060466</td>\n",
       "      <td>1.000000</td>\n",
       "      <td>0.664520</td>\n",
       "      <td>0.399197</td>\n",
       "      <td>0.747724</td>\n",
       "      <td>0.900426</td>\n",
       "      <td>0.068432</td>\n",
       "      <td>0.101818</td>\n",
       "    </tr>\n",
       "    <tr>\n",
       "      <th>height</th>\n",
       "      <td>-0.179926</td>\n",
       "      <td>-0.245521</td>\n",
       "      <td>0.031305</td>\n",
       "      <td>0.099706</td>\n",
       "      <td>0.664520</td>\n",
       "      <td>1.000000</td>\n",
       "      <td>0.793318</td>\n",
       "      <td>0.555746</td>\n",
       "      <td>0.741722</td>\n",
       "      <td>-0.166419</td>\n",
       "      <td>0.105538</td>\n",
       "    </tr>\n",
       "    <tr>\n",
       "      <th>leg_length</th>\n",
       "      <td>-0.138288</td>\n",
       "      <td>-0.269757</td>\n",
       "      <td>0.021169</td>\n",
       "      <td>0.131329</td>\n",
       "      <td>0.399197</td>\n",
       "      <td>0.793318</td>\n",
       "      <td>1.000000</td>\n",
       "      <td>0.167018</td>\n",
       "      <td>0.528289</td>\n",
       "      <td>-0.292013</td>\n",
       "      <td>0.057351</td>\n",
       "    </tr>\n",
       "    <tr>\n",
       "      <th>tail_length</th>\n",
       "      <td>-0.159653</td>\n",
       "      <td>-0.058601</td>\n",
       "      <td>0.029810</td>\n",
       "      <td>0.023652</td>\n",
       "      <td>0.747724</td>\n",
       "      <td>0.555746</td>\n",
       "      <td>0.167018</td>\n",
       "      <td>1.000000</td>\n",
       "      <td>0.713289</td>\n",
       "      <td>0.130837</td>\n",
       "      <td>0.124066</td>\n",
       "    </tr>\n",
       "    <tr>\n",
       "      <th>weight</th>\n",
       "      <td>-0.158081</td>\n",
       "      <td>-0.211779</td>\n",
       "      <td>0.051422</td>\n",
       "      <td>0.083941</td>\n",
       "      <td>0.900426</td>\n",
       "      <td>0.741722</td>\n",
       "      <td>0.528289</td>\n",
       "      <td>0.713289</td>\n",
       "      <td>1.000000</td>\n",
       "      <td>-0.001678</td>\n",
       "      <td>0.098793</td>\n",
       "    </tr>\n",
       "    <tr>\n",
       "      <th>long_haired</th>\n",
       "      <td>0.009646</td>\n",
       "      <td>-0.097839</td>\n",
       "      <td>0.034115</td>\n",
       "      <td>0.026557</td>\n",
       "      <td>0.068432</td>\n",
       "      <td>-0.166419</td>\n",
       "      <td>-0.292013</td>\n",
       "      <td>0.130837</td>\n",
       "      <td>-0.001678</td>\n",
       "      <td>1.000000</td>\n",
       "      <td>0.017357</td>\n",
       "    </tr>\n",
       "    <tr>\n",
       "      <th>scary</th>\n",
       "      <td>0.026687</td>\n",
       "      <td>0.039124</td>\n",
       "      <td>0.173036</td>\n",
       "      <td>0.059618</td>\n",
       "      <td>0.101818</td>\n",
       "      <td>0.105538</td>\n",
       "      <td>0.057351</td>\n",
       "      <td>0.124066</td>\n",
       "      <td>0.098793</td>\n",
       "      <td>0.017357</td>\n",
       "      <td>1.000000</td>\n",
       "    </tr>\n",
       "  </tbody>\n",
       "</table>\n",
       "</div>"
      ],
      "text/plain": [
       "             order_seen       age  num_barks  waggy_tail    length    height  \\\n",
       "order_seen     1.000000  0.052993  -0.228644   -0.124826 -0.133720 -0.179926   \n",
       "age            0.052993  1.000000   0.083336   -0.510624 -0.179285 -0.245521   \n",
       "num_barks     -0.228644  0.083336   1.000000   -0.100512  0.036445  0.031305   \n",
       "waggy_tail    -0.124826 -0.510624  -0.100512    1.000000  0.060466  0.099706   \n",
       "length        -0.133720 -0.179285   0.036445    0.060466  1.000000  0.664520   \n",
       "height        -0.179926 -0.245521   0.031305    0.099706  0.664520  1.000000   \n",
       "leg_length    -0.138288 -0.269757   0.021169    0.131329  0.399197  0.793318   \n",
       "tail_length   -0.159653 -0.058601   0.029810    0.023652  0.747724  0.555746   \n",
       "weight        -0.158081 -0.211779   0.051422    0.083941  0.900426  0.741722   \n",
       "long_haired    0.009646 -0.097839   0.034115    0.026557  0.068432 -0.166419   \n",
       "scary          0.026687  0.039124   0.173036    0.059618  0.101818  0.105538   \n",
       "\n",
       "             leg_length  tail_length    weight  long_haired     scary  \n",
       "order_seen    -0.138288    -0.159653 -0.158081     0.009646  0.026687  \n",
       "age           -0.269757    -0.058601 -0.211779    -0.097839  0.039124  \n",
       "num_barks      0.021169     0.029810  0.051422     0.034115  0.173036  \n",
       "waggy_tail     0.131329     0.023652  0.083941     0.026557  0.059618  \n",
       "length         0.399197     0.747724  0.900426     0.068432  0.101818  \n",
       "height         0.793318     0.555746  0.741722    -0.166419  0.105538  \n",
       "leg_length     1.000000     0.167018  0.528289    -0.292013  0.057351  \n",
       "tail_length    0.167018     1.000000  0.713289     0.130837  0.124066  \n",
       "weight         0.528289     0.713289  1.000000    -0.001678  0.098793  \n",
       "long_haired   -0.292013     0.130837 -0.001678     1.000000  0.017357  \n",
       "scary          0.057351     0.124066  0.098793     0.017357  1.000000  "
      ]
     },
     "execution_count": 29,
     "metadata": {},
     "output_type": "execute_result"
    }
   ],
   "source": [
    "# Checking correlation to see relationships between variables\n",
    "doggy_data.corr()"
   ]
  },
  {
   "cell_type": "markdown",
   "metadata": {},
   "source": [
    "### Observations\n",
    "\n",
    "- age and waggy_tail seems to have a negative correlation (-.5144)\n",
    "- height and weight have a really high positive correlation (.96687)\n",
    "- length and height seem to have a somewhat positive correlation (.52709)\n",
    "- length and weight seem to have a somewhat positive correlation (.509267)\n",
    "- tail length and leg_length seem to have no correlation at all (.00078)"
   ]
  },
  {
   "cell_type": "markdown",
   "metadata": {},
   "source": [
    "### Prepping data and Finding how many Breeds"
   ]
  },
  {
   "cell_type": "code",
   "execution_count": 30,
   "metadata": {},
   "outputs": [],
   "source": [
    "# Binning age\n",
    "age_min = doggy_data.age.min()\n",
    "age_max = doggy_data.age.max()\n",
    "\n",
    "bins_age = np.linspace(age_min,age_max,4)\n",
    "age_label = ['young','middle_age','old']\n",
    "\n",
    "doggy_data['age_binned'] = pd.cut(doggy_data['age'], bins=bins_age, labels=age_label, include_lowest=True)"
   ]
  },
  {
   "cell_type": "code",
   "execution_count": 31,
   "metadata": {},
   "outputs": [],
   "source": [
    "# Binning barks\n",
    "barks_min = doggy_data.age.min()\n",
    "barks_max = doggy_data.age.max()\n",
    "\n",
    "bins_barks = np.linspace(barks_min,barks_max,4)\n",
    "barks_label = ['none_to_few_barks','decent_amount_barks','many_barks']\n",
    "\n",
    "doggy_data['barks_binned'] = pd.cut(doggy_data['num_barks'], bins=bins_barks, labels=barks_label, include_lowest=True)"
   ]
  },
  {
   "cell_type": "code",
   "execution_count": 32,
   "metadata": {},
   "outputs": [],
   "source": [
    "# Dropping some columns \n",
    "doggy_data = doggy_data.drop(['order_seen','age','name','num_barks','notes'],axis=1)\n",
    "doggy_data['waggy_tail'] = doggy_data['waggy_tail'].astype(int) "
   ]
  },
  {
   "cell_type": "code",
   "execution_count": 33,
   "metadata": {},
   "outputs": [],
   "source": [
    "# Transforming categorical columns\n",
    "doggy_data = pd.get_dummies(doggy_data, columns=['age_binned','barks_binned'],prefix='binned')\n",
    "doggy_data['one_direction_or_beethoven'] = doggy_data['one_direction_or_beethoven'].astype('category').cat.codes"
   ]
  },
  {
   "cell_type": "code",
   "execution_count": 34,
   "metadata": {},
   "outputs": [],
   "source": [
    "# Scaling the data\n",
    "doggy_scaled = MinMaxScaler().fit_transform(doggy_data)"
   ]
  },
  {
   "cell_type": "code",
   "execution_count": 35,
   "metadata": {},
   "outputs": [],
   "source": [
    "km_scores= []\n",
    "km_silhouette = []\n",
    "for i in range(2,70):\n",
    "    km = KMeans(n_clusters=i, random_state=0).fit(doggy_scaled)\n",
    "    preds = km.predict(doggy_scaled)\n",
    "    \n",
    "    km_scores.append(-km.score(doggy_scaled))\n",
    "    \n",
    "    silhouette = silhouette_score(doggy_scaled,preds)\n",
    "    km_silhouette.append(silhouette)"
   ]
  },
  {
   "cell_type": "markdown",
   "metadata": {},
   "source": [
    "#### Using the Elbow Method from KMeans to determine K"
   ]
  },
  {
   "cell_type": "code",
   "execution_count": 36,
   "metadata": {},
   "outputs": [
    {
     "data": {
      "image/png": "[encoded data removed]",
      "text/plain": [
       "<matplotlib.figure.Figure at 0x10b5af828>"
      ]
     },
     "metadata": {},
     "output_type": "display_data"
    }
   ],
   "source": [
    "plt.figure(figsize=(30,10))\n",
    "plt.title(\"The elbow method for determining number of clusters\\n\",fontsize=16)\n",
    "plt.scatter(x=[i for i in range(2,70)],y=km_scores,s=150,edgecolor='k')\n",
    "plt.grid(True)\n",
    "plt.xlabel(\"Number of clusters\",fontsize=14)\n",
    "plt.ylabel(\"K-means score\",fontsize=15)\n",
    "plt.xticks([i for i in range(2,70)],fontsize=14)\n",
    "plt.yticks(fontsize=15)\n",
    "plt.show()"
   ]
  },
  {
   "cell_type": "markdown",
   "metadata": {},
   "source": [
    "#### Using the Silhouette Coefficient Method from KMeans to determine K"
   ]
  },
  {
   "cell_type": "code",
   "execution_count": 37,
   "metadata": {},
   "outputs": [
    {
     "data": {
      "image/png": "[encoded data removed]",
      "text/plain": [
       "<matplotlib.figure.Figure at 0x10b5af128>"
      ]
     },
     "metadata": {},
     "output_type": "display_data"
    }
   ],
   "source": [
    "plt.figure(figsize=(30,10))\n",
    "plt.title(\"The silhouette coefficient method \\nfor determining number of clusters\\n\",fontsize=16)\n",
    "plt.scatter(x=[i for i in range(2,70)],y=km_silhouette,s=150,edgecolor='k')\n",
    "plt.grid(True)\n",
    "plt.xlabel(\"Number of clusters\",fontsize=14)\n",
    "plt.ylabel(\"Silhouette score\",fontsize=15)\n",
    "plt.xticks([i for i in range(2,70)],fontsize=14)\n",
    "plt.yticks(fontsize=15)\n",
    "plt.show()"
   ]
  },
  {
   "cell_type": "markdown",
   "metadata": {},
   "source": [
    "## Observations\n",
    "- Hard to tell how many clusters there are with the Elbow Method as there is no elbow shape\n",
    "- Using the silhoutte method it seems that k=58 as that's where the score tops out\n",
    "\n",
    "- Would definitely have to perform better feature engineering and scaling to see if k changes because k=58 (or 58 breeds of dogs) seems pretty astonishing."
   ]
  },
  {
   "cell_type": "markdown",
   "metadata": {},
   "source": [
    "# Final Notes\n",
    "\n",
    "- I would do a lot more data analysis to see if there are more relationships I could find.\n",
    "- I would also take time to perform better feature engineering as well. \n",
    "- I spent quite a bit of time actually researching data related to dogs so I could get rid of excess data that was not possible\n"
   ]
  }
 ],
 "metadata": {
  "kernelspec": {
   "display_name": "Python 3",
   "language": "python",
   "name": "python3"
  },
  "language_info": {
   "codemirror_mode": {
    "name": "ipython",
    "version": 3
   },
   "file_extension": ".py",
   "mimetype": "text/x-python",
   "name": "python",
   "nbconvert_exporter": "python",
   "pygments_lexer": "ipython3",
   "version": "3.6.8"
  }
 },
 "nbformat": 4,
 "nbformat_minor": 2
}
